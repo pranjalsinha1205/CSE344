{
 "cells": [
  {
   "cell_type": "markdown",
   "id": "448e0120",
   "metadata": {},
   "source": [
    "***Stop Words***"
   ]
  },
  {
   "cell_type": "code",
   "execution_count": 1,
   "id": "05206717",
   "metadata": {},
   "outputs": [
    {
     "name": "stderr",
     "output_type": "stream",
     "text": [
      "[nltk_data] Downloading package stopwords to\n",
      "[nltk_data]     C:\\Users\\ASUS\\AppData\\Roaming\\nltk_data...\n"
     ]
    },
    {
     "name": "stdout",
     "output_type": "stream",
     "text": [
      "Original words: ['Stop', 'words', 'are', 'common', 'words', 'that', 'are', 'often', 'considered', 'to', 'be', 'of', 'little', 'value', 'in', 'text', 'analysis']\n",
      "Filtered words: ['Stop', 'words', 'common', 'words', 'often', 'considered', 'little', 'value', 'text', 'analysis']\n"
     ]
    },
    {
     "name": "stderr",
     "output_type": "stream",
     "text": [
      "[nltk_data]   Unzipping corpora\\stopwords.zip.\n"
     ]
    }
   ],
   "source": [
    "import nltk\n",
    "from nltk.corpus import stopwords\n",
    "from nltk.tokenize import word_tokenize\n",
    "\n",
    "nltk.download('stopwords')\n",
    "\n",
    "sentence = \"Stop words are common words that are often considered to be of little value in text analysis\"\n",
    "\n",
    "words = word_tokenize(sentence)\n",
    "\n",
    "stop_words = set(stopwords.words('english'))\n",
    "\n",
    "filtered_words = [word for word in words if word.lower() not in stop_words]\n",
    "\n",
    "print(f\"Original words: {words}\")\n",
    "print(f\"Filtered words: {filtered_words}\")"
   ]
  },
  {
   "cell_type": "code",
   "execution_count": 6,
   "id": "f6bfa72f",
   "metadata": {},
   "outputs": [],
   "source": [
    "def filtering(sentence):\n",
    "    words = word_tokenize(sentence)\n",
    "\n",
    "    stopword_list = set(stopwords.words('english'))\n",
    "\n",
    "    filtered_words = [word for word in words if word.lower() not in stopword_list]\n",
    "\n",
    "    print(f\"Original words: {words}\\n\")\n",
    "    print(f\"Filtered words: {filtered_words}\")    "
   ]
  },
  {
   "cell_type": "code",
   "execution_count": 7,
   "id": "3abea44c",
   "metadata": {},
   "outputs": [
    {
     "name": "stdout",
     "output_type": "stream",
     "text": [
      "Original words: ['The', 'sun', 'was', 'shining', 'brightly', 'in', 'the', 'sky', 'and', 'a', 'gentle', 'breeze', 'was', 'blowing', 'through', 'the', 'trees']\n",
      "\n",
      "Filtered words: ['sun', 'shining', 'brightly', 'sky', 'gentle', 'breeze', 'blowing', 'trees']\n"
     ]
    }
   ],
   "source": [
    "sentence = \"The sun was shining brightly in the sky and a gentle breeze was blowing through the trees\"\n",
    "\n",
    "filtering(sentence)"
   ]
  },
  {
   "cell_type": "markdown",
   "id": "89021f71",
   "metadata": {},
   "source": [
    "***Part 2***"
   ]
  },
  {
   "cell_type": "markdown",
   "id": "fc7709ef",
   "metadata": {},
   "source": [
    "Adding stop words- Add the customer stopwords \"NIL\" and \"JUNK\" in spaCy and remove the stopwords in text.\n",
    "\n",
    "Spacy usually focuses on object oriented stuff whereas NLTK focuses more on strings"
   ]
  },
  {
   "cell_type": "code",
   "execution_count": 13,
   "id": "fefb5957",
   "metadata": {},
   "outputs": [],
   "source": [
    "import spacy"
   ]
  },
  {
   "cell_type": "code",
   "execution_count": 14,
   "id": "9ae37bd4",
   "metadata": {},
   "outputs": [
    {
     "name": "stdout",
     "output_type": "stream",
     "text": [
      "Original: This is a JUNK sentence that contains NIL information but is useful for testing.\n",
      "Filtered: sentence contains information useful testing .\n"
     ]
    }
   ],
   "source": [
    "nlp = spacy.load('en_core_web_sm')\n",
    "# en is english and sm is small because we are only using it on a small data\n",
    "\n",
    "nlp.Defaults.stop_words.add(\"nil\") # we are adding these words in the stop wordsP\n",
    "nlp.Defaults.stop_words.add(\"junk\")\n",
    "\n",
    "text = \"This is a JUNK sentence that contains NIL information but is useful for testing.\"\n",
    "\n",
    "doc = nlp(text)\n",
    "\n",
    "filtered_words = [token.text for token in doc if token.text.lower() not in nlp.Defaults.stop_words]\n",
    "\n",
    "print(f\"Original: {text}\")\n",
    "print(f'Filtered: {\" \".join(filtered_words)}')"
   ]
  },
  {
   "cell_type": "code",
   "execution_count": null,
   "id": "dd9dad5e",
   "metadata": {},
   "outputs": [],
   "source": []
  }
 ],
 "metadata": {
  "kernelspec": {
   "display_name": "Python 3 (ipykernel)",
   "language": "python",
   "name": "python3"
  },
  "language_info": {
   "codemirror_mode": {
    "name": "ipython",
    "version": 3
   },
   "file_extension": ".py",
   "mimetype": "text/x-python",
   "name": "python",
   "nbconvert_exporter": "python",
   "pygments_lexer": "ipython3",
   "version": "3.9.12"
  }
 },
 "nbformat": 4,
 "nbformat_minor": 5
}
