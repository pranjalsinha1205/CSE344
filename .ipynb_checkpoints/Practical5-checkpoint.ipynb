{
 "cells": [
  {
   "cell_type": "code",
   "execution_count": 1,
   "id": "f05d4cab",
   "metadata": {},
   "outputs": [
    {
     "name": "stderr",
     "output_type": "stream",
     "text": [
      "[nltk_data] Downloading package punkt to\n",
      "[nltk_data]     C:\\Users\\ASUS\\AppData\\Roaming\\nltk_data...\n",
      "[nltk_data]   Package punkt is already up-to-date!\n"
     ]
    },
    {
     "data": {
      "text/plain": [
       "True"
      ]
     },
     "execution_count": 1,
     "metadata": {},
     "output_type": "execute_result"
    }
   ],
   "source": [
    "import re\n",
    "import nltk\n",
    "from nltk.tokenize import word_tokenize\n",
    "\n",
    "nltk.download('punkt')"
   ]
  },
  {
   "cell_type": "code",
   "execution_count": 7,
   "id": "a0457d14",
   "metadata": {},
   "outputs": [
    {
     "name": "stdout",
     "output_type": "stream",
     "text": [
      "Extracted emails: ['john.doe@example.com', 'java_smith123@company.org', 'help@service.com']\n",
      "Extracted usernames: ['john.doe', 'java_smith123', 'help']\n"
     ]
    }
   ],
   "source": [
    "text = \"\"\"\n",
    "Hello, you can reach me at john.doe@example.com and my colleague at java_smith123@company.org.\n",
    "Another email is test.email @domain.net, and support can be contacted at help@service.com.\n",
    "\"\"\"\n",
    "\n",
    "email_pattern = \"[a-zA-Z0-9._%+-]+@[a-zA-Z]+\\.[a-zA-Z]{2,}\"\n",
    "\n",
    "emails = re.findall(email_pattern, text)\n",
    "\n",
    "username = [email.split(\"@\")[0] for email in emails]\n",
    "\n",
    "print(f\"Extracted emails: {emails}\\nExtracted usernames: {username}\")"
   ]
  },
  {
   "cell_type": "markdown",
   "id": "aacdbcb6",
   "metadata": {},
   "source": [
    "***Extracting top common words- extract the top 10 most common words in the text excluding stopwords***"
   ]
  },
  {
   "cell_type": "code",
   "execution_count": 8,
   "id": "8f79b6b3",
   "metadata": {},
   "outputs": [
    {
     "name": "stderr",
     "output_type": "stream",
     "text": [
      "[nltk_data] Downloading package stopwords to\n",
      "[nltk_data]     C:\\Users\\ASUS\\AppData\\Roaming\\nltk_data...\n",
      "[nltk_data]   Package stopwords is already up-to-date!\n"
     ]
    },
    {
     "data": {
      "text/plain": [
       "True"
      ]
     },
     "execution_count": 8,
     "metadata": {},
     "output_type": "execute_result"
    }
   ],
   "source": [
    "from nltk.corpus import stopwords\n",
    "from nltk.tokenize import word_tokenize\n",
    "from collections import Counter\n",
    "\n",
    "nltk.download('stopwords')"
   ]
  },
  {
   "cell_type": "code",
   "execution_count": 14,
   "id": "e447380b",
   "metadata": {},
   "outputs": [
    {
     "name": "stdout",
     "output_type": "stream",
     "text": [
      "Top 10 most common words: \n",
      ",: 8\n",
      ".: 6\n",
      "young: 2\n",
      "story: 2\n",
      "china: 2\n",
      "shin: 2\n",
      "(: 2\n",
      "): 2\n",
      "war: 2\n",
      "orphan: 2\n"
     ]
    }
   ],
   "source": [
    "text = \"\"\"\n",
    "Kingdom is a Japanese manga series written and illustrated by Yasuhisa Hara. It has been serialized in Weekly Young Jump\n",
    "since 2006 and has over 70 volumes. The story is set in the Warring States period of ancient China and follows Shin (Xin)\n",
    ", a war orphan who dreams of becoming the greatest general under heaven. The story begins with Shin, a war orphan and servant\n",
    ", who aspires to rise above his lowly status and achieve greatness as a general. His fate changes when he meets Ei Sei\n",
    "(Ying Zheng), the young king of Qin, who aims to unify China. Together, they embark on a journey filled with warfare,\n",
    "political intrigue, and personal growth.\n",
    "\"\"\"\n",
    "\n",
    "tokens = word_tokenize(text)\n",
    "\n",
    "words = [token.lower() for token in tokens]\n",
    "\n",
    "stop_words = set(stopwords.words('english'))\n",
    "\n",
    "filtered_words = [word for word in words if word not in stop_words]\n",
    "\n",
    "word_counts = Counter(filtered_words)\n",
    "\n",
    "top_10_common = word_counts.most_common(10)\n",
    "\n",
    "print(\"Top 10 most common words: \")\n",
    "for word, count in top_10_common:\n",
    "    print(f\"{word}: {count}\")"
   ]
  },
  {
   "cell_type": "code",
   "execution_count": null,
   "id": "876c0ab0",
   "metadata": {},
   "outputs": [],
   "source": []
  }
 ],
 "metadata": {
  "kernelspec": {
   "display_name": "Python 3 (ipykernel)",
   "language": "python",
   "name": "python3"
  },
  "language_info": {
   "codemirror_mode": {
    "name": "ipython",
    "version": 3
   },
   "file_extension": ".py",
   "mimetype": "text/x-python",
   "name": "python",
   "nbconvert_exporter": "python",
   "pygments_lexer": "ipython3",
   "version": "3.9.12"
  }
 },
 "nbformat": 4,
 "nbformat_minor": 5
}
