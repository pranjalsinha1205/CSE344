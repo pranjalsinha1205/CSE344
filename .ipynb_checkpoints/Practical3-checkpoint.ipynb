{
 "cells": [
  {
   "cell_type": "markdown",
   "id": "0e2acd49",
   "metadata": {},
   "source": [
    "***Stop Words***"
   ]
  },
  {
   "cell_type": "code",
   "execution_count": 1,
   "id": "a472a838",
   "metadata": {},
   "outputs": [
    {
     "name": "stderr",
     "output_type": "stream",
     "text": [
      "[nltk_data] Downloading package stopwords to\n",
      "[nltk_data]     C:\\Users\\ASUS\\AppData\\Roaming\\nltk_data...\n"
     ]
    },
    {
     "name": "stdout",
     "output_type": "stream",
     "text": [
      "Original words: ['Stop', 'words', 'are', 'common', 'words', 'that', 'are', 'often', 'considered', 'to', 'be', 'of', 'little', 'value', 'in', 'text', 'analysis']\n",
      "Filtered words: ['Stop', 'words', 'common', 'words', 'often', 'considered', 'little', 'value', 'text', 'analysis']\n"
     ]
    },
    {
     "name": "stderr",
     "output_type": "stream",
     "text": [
      "[nltk_data]   Unzipping corpora\\stopwords.zip.\n"
     ]
    }
   ],
   "source": [
    "import nltk\n",
    "from nltk.corpus import stopwords\n",
    "from nltk.tokenize import word_tokenize\n",
    "\n",
    "nltk.download('stopwords')\n",
    "\n",
    "sentence = \"Stop words are common words that are often considered to be of little value in text analysis\"\n",
    "\n",
    "words = word_tokenize(sentence)\n",
    "\n",
    "stop_words = set(stopwords.words('english'))\n",
    "\n",
    "filtered_words = [word for word in words if word.lower() not in stop_words]\n",
    "\n",
    "print(f\"Original words: {words}\")\n",
    "print(f\"Filtered words: {filtered_words}\")"
   ]
  },
  {
   "cell_type": "code",
   "execution_count": null,
   "id": "9ae47162",
   "metadata": {},
   "outputs": [],
   "source": [
    "sentence = \"The sun was \""
   ]
  },
  {
   "cell_type": "markdown",
   "id": "81d7240d",
   "metadata": {},
   "source": [
    "***Part 2***"
   ]
  },
  {
   "cell_type": "code",
   "execution_count": null,
   "id": "51baa650",
   "metadata": {},
   "outputs": [],
   "source": []
  }
 ],
 "metadata": {
  "kernelspec": {
   "display_name": "Python 3 (ipykernel)",
   "language": "python",
   "name": "python3"
  },
  "language_info": {
   "codemirror_mode": {
    "name": "ipython",
    "version": 3
   },
   "file_extension": ".py",
   "mimetype": "text/x-python",
   "name": "python",
   "nbconvert_exporter": "python",
   "pygments_lexer": "ipython3",
   "version": "3.9.12"
  }
 },
 "nbformat": 4,
 "nbformat_minor": 5
}
