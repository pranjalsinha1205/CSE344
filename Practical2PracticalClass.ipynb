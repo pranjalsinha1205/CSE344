{
 "cells": [
  {
   "cell_type": "code",
   "execution_count": 3,
   "id": "4f1e8b46",
   "metadata": {},
   "outputs": [],
   "source": [
    "import re\n",
    "\n",
    "text = \"The quick brown fox is jumping over the lazy dog. It was a sunny day.\""
   ]
  },
  {
   "cell_type": "code",
   "execution_count": 4,
   "id": "d4fab572",
   "metadata": {},
   "outputs": [
    {
     "name": "stdout",
     "output_type": "stream",
     "text": [
      "Original text: The quick brown fox is jumping over the lazy dog. It was a sunny day.\n",
      "Meaningful text: ['The quick brown fox', 'jumping over', 'lazy dog. It', 'a sunny day.']\n"
     ]
    }
   ],
   "source": [
    "stopwords_as_delimiters = [\"was\", \"is\", \"the\"]\n",
    "\n",
    "pattern = r'\\b(?:'+'|'.join(stopwords_as_delimiters)+r')\\b'\n",
    "\n",
    "tokens = re.split(pattern, text)\n",
    "\n",
    "meaningful_phrases = [token.strip() for token in tokens if token.strip()]\n",
    "\n",
    "print(f'Original text: {text}')\n",
    "print(f'Meaningful text: {meaningful_phrases}')"
   ]
  },
  {
   "cell_type": "code",
   "execution_count": null,
   "id": "f3e2594c",
   "metadata": {},
   "outputs": [],
   "source": []
  }
 ],
 "metadata": {
  "kernelspec": {
   "display_name": "Python 3 (ipykernel)",
   "language": "python",
   "name": "python3"
  },
  "language_info": {
   "codemirror_mode": {
    "name": "ipython",
    "version": 3
   },
   "file_extension": ".py",
   "mimetype": "text/x-python",
   "name": "python",
   "nbconvert_exporter": "python",
   "pygments_lexer": "ipython3",
   "version": "3.9.12"
  }
 },
 "nbformat": 4,
 "nbformat_minor": 5
}
