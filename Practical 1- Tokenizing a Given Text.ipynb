{
 "cells": [
  {
   "cell_type": "code",
   "execution_count": 1,
   "id": "0c93366c",
   "metadata": {},
   "outputs": [],
   "source": [
    "import nltk\n",
    "from nltk.tokenize import word_tokenize"
   ]
  },
  {
   "cell_type": "code",
   "execution_count": 2,
   "id": "d55fe100",
   "metadata": {},
   "outputs": [
    {
     "name": "stderr",
     "output_type": "stream",
     "text": [
      "[nltk_data] Downloading package punkt_tab to\n",
      "[nltk_data]     C:\\Users\\ASUS\\AppData\\Roaming\\nltk_data...\n",
      "[nltk_data]   Unzipping tokenizers\\punkt_tab.zip.\n"
     ]
    },
    {
     "data": {
      "text/plain": [
       "True"
      ]
     },
     "execution_count": 2,
     "metadata": {},
     "output_type": "execute_result"
    }
   ],
   "source": [
    "nltk.download('punkt_tab')"
   ]
  },
  {
   "cell_type": "code",
   "execution_count": 3,
   "id": "cc55fe5f",
   "metadata": {},
   "outputs": [],
   "source": [
    "sentence = 'Tokenization is an important step in natural language processing'"
   ]
  },
  {
   "cell_type": "code",
   "execution_count": 4,
   "id": "eb83117b",
   "metadata": {},
   "outputs": [],
   "source": [
    "tokens = word_tokenize(sentence)"
   ]
  },
  {
   "cell_type": "code",
   "execution_count": 5,
   "id": "7c92d6dc",
   "metadata": {},
   "outputs": [
    {
     "name": "stdout",
     "output_type": "stream",
     "text": [
      "['Tokenization', 'is', 'an', 'important', 'step', 'in', 'natural', 'language', 'processing']\n"
     ]
    }
   ],
   "source": [
    "print(tokens)"
   ]
  },
  {
   "cell_type": "markdown",
   "id": "23ba1eb4",
   "metadata": {},
   "source": [
    "# Do it yourself"
   ]
  },
  {
   "cell_type": "code",
   "execution_count": 7,
   "id": "7e5852a2",
   "metadata": {},
   "outputs": [],
   "source": [
    "paragraph = \"\"\"\n",
    "    20th Century Boys is a critically acclaimed manga series written and illustrated by Naoki Urasawa, \n",
    "    known for its intricate storytelling, deep psychological themes, and masterful suspense. \n",
    "    Originally serialized from 1999 to 2006, the story follows Kenji Endo, a convenience store manager \n",
    "    who once dreamt of being a rock star but now leads an ordinary life. \n",
    "    His world is turned upside down when he discovers that a series of mysterious events, including the rise of a dangerous cult\n",
    "    led by a masked figure known as \"Friend,\" are connected to a story he and his childhood friends invented decades ago. \n",
    "    As Kenji and his friends dig deeper, they realize that their childhood fantasies of saving the world from an evil force\n",
    "    may have somehow come true—but with devastating consequences. \n",
    "    The narrative jumps between different timelines, showing their youthful innocence in the 1960s and the dark,\n",
    "    dystopian future shaped by Friend’s rule. Urasawa masterfully weaves a complex mystery filled with unexpected twists,\n",
    "    thought-provoking themes of fate, nostalgia, and the power of collective memory.\n",
    "    The manga also explores the fear of lost ideals, the consequences of past actions, and how seemingly\n",
    "    insignificant moments in childhood can have profound impacts on the future. \n",
    "    With an expansive cast of characters, each with their own distinct personalities and motivations\n",
    "    , 20th Century Boys delivers a gripping story filled with suspense, emotion, and social commentary.\n",
    "    The manga is often compared to classic mystery and science fiction works, with influences from pop culture,\n",
    "    rock music, and real-world historical events. \n",
    "    Its sequel, 21st Century Boys, provides a conclusion to the sprawling narrative,\n",
    "    ensuring that Urasawa’s intricate puzzle is ultimately resolved. \n",
    "    Regarded as one of the greatest seinen manga of all time, 20th Century Boys remains a must-read for \n",
    "    fans of psychological thrillers and compelling storytelling.\n",
    "    \"\"\""
   ]
  },
  {
   "cell_type": "code",
   "execution_count": 16,
   "id": "798b8b83",
   "metadata": {},
   "outputs": [],
   "source": [
    "from nltk.tokenize import sent_tokenize"
   ]
  },
  {
   "cell_type": "code",
   "execution_count": 19,
   "id": "2db05956",
   "metadata": {},
   "outputs": [],
   "source": [
    "sentence_tokens_manga = sent_tokenize(paragraph)"
   ]
  },
  {
   "cell_type": "code",
   "execution_count": 20,
   "id": "b7e938d1",
   "metadata": {},
   "outputs": [
    {
     "name": "stdout",
     "output_type": "stream",
     "text": [
      "['\\n    20th Century Boys is a critically acclaimed manga series written and illustrated by Naoki Urasawa, \\n    known for its intricate storytelling, deep psychological themes, and masterful suspense.', 'Originally serialized from 1999 to 2006, the story follows Kenji Endo, a convenience store manager \\n    who once dreamt of being a rock star but now leads an ordinary life.', 'His world is turned upside down when he discovers that a series of mysterious events, including the rise of a dangerous cult\\n    led by a masked figure known as \"Friend,\" are connected to a story he and his childhood friends invented decades ago.', 'As Kenji and his friends dig deeper, they realize that their childhood fantasies of saving the world from an evil force\\n    may have somehow come true—but with devastating consequences.', 'The narrative jumps between different timelines, showing their youthful innocence in the 1960s and the dark,\\n    dystopian future shaped by Friend’s rule.', 'Urasawa masterfully weaves a complex mystery filled with unexpected twists,\\n    thought-provoking themes of fate, nostalgia, and the power of collective memory.', 'The manga also explores the fear of lost ideals, the consequences of past actions, and how seemingly\\n    insignificant moments in childhood can have profound impacts on the future.', 'With an expansive cast of characters, each with their own distinct personalities and motivations\\n    , 20th Century Boys delivers a gripping story filled with suspense, emotion, and social commentary.', 'The manga is often compared to classic mystery and science fiction works, with influences from pop culture,\\n    rock music, and real-world historical events.', 'Its sequel, 21st Century Boys, provides a conclusion to the sprawling narrative,\\n    ensuring that Urasawa’s intricate puzzle is ultimately resolved.', 'Regarded as one of the greatest seinen manga of all time, 20th Century Boys remains a must-read for \\n    fans of psychological thrillers and compelling storytelling.']\n"
     ]
    }
   ],
   "source": [
    "print(sentence_tokens_manga)"
   ]
  },
  {
   "cell_type": "code",
   "execution_count": 21,
   "id": "424b6565",
   "metadata": {},
   "outputs": [],
   "source": [
    "word_tokens = word_tokenize(paragraph)"
   ]
  },
  {
   "cell_type": "code",
   "execution_count": 22,
   "id": "5a5127e2",
   "metadata": {},
   "outputs": [
    {
     "name": "stdout",
     "output_type": "stream",
     "text": [
      "['20th', 'Century', 'Boys', 'is', 'a', 'critically', 'acclaimed', 'manga', 'series', 'written', 'and', 'illustrated', 'by', 'Naoki', 'Urasawa', ',', 'known', 'for', 'its', 'intricate', 'storytelling', ',', 'deep', 'psychological', 'themes', ',', 'and', 'masterful', 'suspense', '.', 'Originally', 'serialized', 'from', '1999', 'to', '2006', ',', 'the', 'story', 'follows', 'Kenji', 'Endo', ',', 'a', 'convenience', 'store', 'manager', 'who', 'once', 'dreamt', 'of', 'being', 'a', 'rock', 'star', 'but', 'now', 'leads', 'an', 'ordinary', 'life', '.', 'His', 'world', 'is', 'turned', 'upside', 'down', 'when', 'he', 'discovers', 'that', 'a', 'series', 'of', 'mysterious', 'events', ',', 'including', 'the', 'rise', 'of', 'a', 'dangerous', 'cult', 'led', 'by', 'a', 'masked', 'figure', 'known', 'as', '``', 'Friend', ',', \"''\", 'are', 'connected', 'to', 'a', 'story', 'he', 'and', 'his', 'childhood', 'friends', 'invented', 'decades', 'ago', '.', 'As', 'Kenji', 'and', 'his', 'friends', 'dig', 'deeper', ',', 'they', 'realize', 'that', 'their', 'childhood', 'fantasies', 'of', 'saving', 'the', 'world', 'from', 'an', 'evil', 'force', 'may', 'have', 'somehow', 'come', 'true—but', 'with', 'devastating', 'consequences', '.', 'The', 'narrative', 'jumps', 'between', 'different', 'timelines', ',', 'showing', 'their', 'youthful', 'innocence', 'in', 'the', '1960s', 'and', 'the', 'dark', ',', 'dystopian', 'future', 'shaped', 'by', 'Friend', '’', 's', 'rule', '.', 'Urasawa', 'masterfully', 'weaves', 'a', 'complex', 'mystery', 'filled', 'with', 'unexpected', 'twists', ',', 'thought-provoking', 'themes', 'of', 'fate', ',', 'nostalgia', ',', 'and', 'the', 'power', 'of', 'collective', 'memory', '.', 'The', 'manga', 'also', 'explores', 'the', 'fear', 'of', 'lost', 'ideals', ',', 'the', 'consequences', 'of', 'past', 'actions', ',', 'and', 'how', 'seemingly', 'insignificant', 'moments', 'in', 'childhood', 'can', 'have', 'profound', 'impacts', 'on', 'the', 'future', '.', 'With', 'an', 'expansive', 'cast', 'of', 'characters', ',', 'each', 'with', 'their', 'own', 'distinct', 'personalities', 'and', 'motivations', ',', '20th', 'Century', 'Boys', 'delivers', 'a', 'gripping', 'story', 'filled', 'with', 'suspense', ',', 'emotion', ',', 'and', 'social', 'commentary', '.', 'The', 'manga', 'is', 'often', 'compared', 'to', 'classic', 'mystery', 'and', 'science', 'fiction', 'works', ',', 'with', 'influences', 'from', 'pop', 'culture', ',', 'rock', 'music', ',', 'and', 'real-world', 'historical', 'events', '.', 'Its', 'sequel', ',', '21st', 'Century', 'Boys', ',', 'provides', 'a', 'conclusion', 'to', 'the', 'sprawling', 'narrative', ',', 'ensuring', 'that', 'Urasawa', '’', 's', 'intricate', 'puzzle', 'is', 'ultimately', 'resolved', '.', 'Regarded', 'as', 'one', 'of', 'the', 'greatest', 'seinen', 'manga', 'of', 'all', 'time', ',', '20th', 'Century', 'Boys', 'remains', 'a', 'must-read', 'for', 'fans', 'of', 'psychological', 'thrillers', 'and', 'compelling', 'storytelling', '.']\n"
     ]
    }
   ],
   "source": [
    "print(word_tokens)"
   ]
  },
  {
   "cell_type": "code",
   "execution_count": null,
   "id": "8daa91a6",
   "metadata": {},
   "outputs": [],
   "source": []
  }
 ],
 "metadata": {
  "kernelspec": {
   "display_name": "Python 3 (ipykernel)",
   "language": "python",
   "name": "python3"
  },
  "language_info": {
   "codemirror_mode": {
    "name": "ipython",
    "version": 3
   },
   "file_extension": ".py",
   "mimetype": "text/x-python",
   "name": "python",
   "nbconvert_exporter": "python",
   "pygments_lexer": "ipython3",
   "version": "3.9.12"
  }
 },
 "nbformat": 4,
 "nbformat_minor": 5
}
